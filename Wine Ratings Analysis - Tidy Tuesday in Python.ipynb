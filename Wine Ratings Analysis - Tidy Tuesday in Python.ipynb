{
 "cells": [
  {
   "cell_type": "markdown",
   "metadata": {},
   "source": [
    "Most methods in this notebook are initially done by David Robinson on his Youtube series Tidy Tuesday screencast with R: https://www.youtube.com/watch?v=AQzZNIyjyWM\n",
    "\n",
    "This notebook attempts to recreate that analysis by translating it into Python and adding my own further analysis"
   ]
  },
  {
   "cell_type": "code",
   "execution_count": 1,
   "metadata": {},
   "outputs": [],
   "source": [
    "import numpy as np\n",
    "import pandas as pd\n",
    "import matplotlib.pyplot as plt\n",
    "import seaborn as sns\n",
    "import re\n",
    "import statsmodels\n",
    "%matplotlib inline\n",
    "plt.style.use(\"ggplot\")"
   ]
  },
  {
   "cell_type": "code",
   "execution_count": 2,
   "metadata": {
    "scrolled": true
   },
   "outputs": [
    {
     "data": {
      "text/html": [
       "<div>\n",
       "<style scoped>\n",
       "    .dataframe tbody tr th:only-of-type {\n",
       "        vertical-align: middle;\n",
       "    }\n",
       "\n",
       "    .dataframe tbody tr th {\n",
       "        vertical-align: top;\n",
       "    }\n",
       "\n",
       "    .dataframe thead th {\n",
       "        text-align: right;\n",
       "    }\n",
       "</style>\n",
       "<table border=\"1\" class=\"dataframe\">\n",
       "  <thead>\n",
       "    <tr style=\"text-align: right;\">\n",
       "      <th></th>\n",
       "      <th>country</th>\n",
       "      <th>description</th>\n",
       "      <th>designation</th>\n",
       "      <th>points</th>\n",
       "      <th>price</th>\n",
       "      <th>province</th>\n",
       "      <th>region_1</th>\n",
       "      <th>region_2</th>\n",
       "      <th>taster_name</th>\n",
       "      <th>taster_twitter_handle</th>\n",
       "      <th>title</th>\n",
       "      <th>variety</th>\n",
       "      <th>winery</th>\n",
       "    </tr>\n",
       "  </thead>\n",
       "  <tbody>\n",
       "    <tr>\n",
       "      <th>0</th>\n",
       "      <td>Italy</td>\n",
       "      <td>Aromas include tropical fruit, broom, brimston...</td>\n",
       "      <td>Vulkà Bianco</td>\n",
       "      <td>87</td>\n",
       "      <td>NaN</td>\n",
       "      <td>Sicily &amp; Sardinia</td>\n",
       "      <td>Etna</td>\n",
       "      <td>NaN</td>\n",
       "      <td>Kerin O’Keefe</td>\n",
       "      <td>@kerinokeefe</td>\n",
       "      <td>Nicosia 2013 Vulkà Bianco  (Etna)</td>\n",
       "      <td>White Blend</td>\n",
       "      <td>Nicosia</td>\n",
       "    </tr>\n",
       "    <tr>\n",
       "      <th>1</th>\n",
       "      <td>Portugal</td>\n",
       "      <td>This is ripe and fruity, a wine that is smooth...</td>\n",
       "      <td>Avidagos</td>\n",
       "      <td>87</td>\n",
       "      <td>15.0</td>\n",
       "      <td>Douro</td>\n",
       "      <td>NaN</td>\n",
       "      <td>NaN</td>\n",
       "      <td>Roger Voss</td>\n",
       "      <td>@vossroger</td>\n",
       "      <td>Quinta dos Avidagos 2011 Avidagos Red (Douro)</td>\n",
       "      <td>Portuguese Red</td>\n",
       "      <td>Quinta dos Avidagos</td>\n",
       "    </tr>\n",
       "    <tr>\n",
       "      <th>2</th>\n",
       "      <td>US</td>\n",
       "      <td>Tart and snappy, the flavors of lime flesh and...</td>\n",
       "      <td>NaN</td>\n",
       "      <td>87</td>\n",
       "      <td>14.0</td>\n",
       "      <td>Oregon</td>\n",
       "      <td>Willamette Valley</td>\n",
       "      <td>Willamette Valley</td>\n",
       "      <td>Paul Gregutt</td>\n",
       "      <td>@paulgwine</td>\n",
       "      <td>Rainstorm 2013 Pinot Gris (Willamette Valley)</td>\n",
       "      <td>Pinot Gris</td>\n",
       "      <td>Rainstorm</td>\n",
       "    </tr>\n",
       "    <tr>\n",
       "      <th>3</th>\n",
       "      <td>US</td>\n",
       "      <td>Pineapple rind, lemon pith and orange blossom ...</td>\n",
       "      <td>Reserve Late Harvest</td>\n",
       "      <td>87</td>\n",
       "      <td>13.0</td>\n",
       "      <td>Michigan</td>\n",
       "      <td>Lake Michigan Shore</td>\n",
       "      <td>NaN</td>\n",
       "      <td>Alexander Peartree</td>\n",
       "      <td>NaN</td>\n",
       "      <td>St. Julian 2013 Reserve Late Harvest Riesling ...</td>\n",
       "      <td>Riesling</td>\n",
       "      <td>St. Julian</td>\n",
       "    </tr>\n",
       "    <tr>\n",
       "      <th>4</th>\n",
       "      <td>US</td>\n",
       "      <td>Much like the regular bottling from 2012, this...</td>\n",
       "      <td>Vintner's Reserve Wild Child Block</td>\n",
       "      <td>87</td>\n",
       "      <td>65.0</td>\n",
       "      <td>Oregon</td>\n",
       "      <td>Willamette Valley</td>\n",
       "      <td>Willamette Valley</td>\n",
       "      <td>Paul Gregutt</td>\n",
       "      <td>@paulgwine</td>\n",
       "      <td>Sweet Cheeks 2012 Vintner's Reserve Wild Child...</td>\n",
       "      <td>Pinot Noir</td>\n",
       "      <td>Sweet Cheeks</td>\n",
       "    </tr>\n",
       "  </tbody>\n",
       "</table>\n",
       "</div>"
      ],
      "text/plain": [
       "    country                                        description  \\\n",
       "0     Italy  Aromas include tropical fruit, broom, brimston...   \n",
       "1  Portugal  This is ripe and fruity, a wine that is smooth...   \n",
       "2        US  Tart and snappy, the flavors of lime flesh and...   \n",
       "3        US  Pineapple rind, lemon pith and orange blossom ...   \n",
       "4        US  Much like the regular bottling from 2012, this...   \n",
       "\n",
       "                          designation  points  price           province  \\\n",
       "0                        Vulkà Bianco      87    NaN  Sicily & Sardinia   \n",
       "1                            Avidagos      87   15.0              Douro   \n",
       "2                                 NaN      87   14.0             Oregon   \n",
       "3                Reserve Late Harvest      87   13.0           Michigan   \n",
       "4  Vintner's Reserve Wild Child Block      87   65.0             Oregon   \n",
       "\n",
       "              region_1           region_2         taster_name  \\\n",
       "0                 Etna                NaN       Kerin O’Keefe   \n",
       "1                  NaN                NaN          Roger Voss   \n",
       "2    Willamette Valley  Willamette Valley        Paul Gregutt   \n",
       "3  Lake Michigan Shore                NaN  Alexander Peartree   \n",
       "4    Willamette Valley  Willamette Valley        Paul Gregutt   \n",
       "\n",
       "  taster_twitter_handle                                              title  \\\n",
       "0          @kerinokeefe                  Nicosia 2013 Vulkà Bianco  (Etna)   \n",
       "1            @vossroger      Quinta dos Avidagos 2011 Avidagos Red (Douro)   \n",
       "2           @paulgwine       Rainstorm 2013 Pinot Gris (Willamette Valley)   \n",
       "3                   NaN  St. Julian 2013 Reserve Late Harvest Riesling ...   \n",
       "4           @paulgwine   Sweet Cheeks 2012 Vintner's Reserve Wild Child...   \n",
       "\n",
       "          variety               winery  \n",
       "0     White Blend              Nicosia  \n",
       "1  Portuguese Red  Quinta dos Avidagos  \n",
       "2      Pinot Gris            Rainstorm  \n",
       "3        Riesling           St. Julian  \n",
       "4      Pinot Noir         Sweet Cheeks  "
      ]
     },
     "execution_count": 2,
     "metadata": {},
     "output_type": "execute_result"
    }
   ],
   "source": [
    "wine_rating_df = pd.read_csv('winemag-data-130k-v2.csv')\n",
    "wine_rating_df.drop(columns='Unnamed: 0', inplace = True)\n",
    "wine_rating_df.head()"
   ]
  },
  {
   "cell_type": "code",
   "execution_count": 3,
   "metadata": {
    "scrolled": true
   },
   "outputs": [
    {
     "name": "stdout",
     "output_type": "stream",
     "text": [
      "<class 'pandas.core.frame.DataFrame'>\n",
      "RangeIndex: 129971 entries, 0 to 129970\n",
      "Data columns (total 13 columns):\n",
      "country                  129908 non-null object\n",
      "description              129971 non-null object\n",
      "designation              92506 non-null object\n",
      "points                   129971 non-null int64\n",
      "price                    120975 non-null float64\n",
      "province                 129908 non-null object\n",
      "region_1                 108724 non-null object\n",
      "region_2                 50511 non-null object\n",
      "taster_name              103727 non-null object\n",
      "taster_twitter_handle    98758 non-null object\n",
      "title                    129971 non-null object\n",
      "variety                  129970 non-null object\n",
      "winery                   129971 non-null object\n",
      "dtypes: float64(1), int64(1), object(11)\n",
      "memory usage: 12.9+ MB\n"
     ]
    }
   ],
   "source": [
    "wine_rating_df.info()"
   ]
  },
  {
   "cell_type": "code",
   "execution_count": 4,
   "metadata": {
    "scrolled": false
   },
   "outputs": [
    {
     "data": {
      "text/plain": [
       "country                      43\n",
       "description              119955\n",
       "designation               37979\n",
       "points                       21\n",
       "price                       390\n",
       "province                    425\n",
       "region_1                   1229\n",
       "region_2                     17\n",
       "taster_name                  19\n",
       "taster_twitter_handle        15\n",
       "title                    118840\n",
       "variety                     707\n",
       "winery                    16757\n",
       "dtype: int64"
      ]
     },
     "execution_count": 4,
     "metadata": {},
     "output_type": "execute_result"
    }
   ],
   "source": [
    "wine_rating_df.nunique()"
   ]
  },
  {
   "cell_type": "markdown",
   "metadata": {},
   "source": [
    "### Fill in missing countries by matching with existing winery names\n",
    "\n",
    "The assumption is that each winery only exist in one country (checked with groupby winery then .nunique()). Therefore, Some of the missing 'country' values may be filled in by referring to another data row with a matching 'winery' value."
   ]
  },
  {
   "cell_type": "code",
   "execution_count": 5,
   "metadata": {},
   "outputs": [
    {
     "data": {
      "text/plain": [
       "array(['Gotsa Family Wines', 'Barton & Guestier',\n",
       "       'Kakhetia Traditional Winemaking', 'Tsililis', 'Ross-idi',\n",
       "       'Orbelus', 'St. Donat', 'Familia Deicas', 'Bartho Eksteen',\n",
       "       'Stone Castle', 'Teliani Valley', 'Undurraga', 'Mt. Beautiful',\n",
       "       'Neumeister', 'Bachelder', 'Chilcas', 'Santa Ema', 'Psagot',\n",
       "       'Newton Johnson', 'Ktima Voyatzi', 'Lismore', 'Logodaj',\n",
       "       'Somlói Vándor', 'Les Frères Dutruy', 'El Capricho',\n",
       "       'Amiran Vepkhvadze', 'Büyülübağ'], dtype=object)"
      ]
     },
     "execution_count": 5,
     "metadata": {},
     "output_type": "execute_result"
    }
   ],
   "source": [
    "# List of wineries with one or more missing 'country' values\n",
    "missing_country = wine_rating_df[wine_rating_df[\"country\"].isnull()]['winery'].unique()\n",
    "missing_country"
   ]
  },
  {
   "cell_type": "code",
   "execution_count": 6,
   "metadata": {
    "scrolled": false
   },
   "outputs": [
    {
     "data": {
      "text/plain": [
       "array(['Undurraga', 'Santa Ema', 'Barton & Guestier', 'Mt. Beautiful',\n",
       "       'Neumeister', 'Psagot', 'Chilcas', 'Familia Deicas', 'Bachelder',\n",
       "       'Teliani Valley', 'Bartho Eksteen', 'Newton Johnson', 'Logodaj',\n",
       "       'Gotsa Family Wines', 'Ktima Voyatzi'], dtype=object)"
      ]
     },
     "execution_count": 6,
     "metadata": {},
     "output_type": "execute_result"
    }
   ],
   "source": [
    "# only wineries with 'country' values inferable from other data rows are chosen\n",
    "df_matched_country = wine_rating_df[['country', 'winery']][wine_rating_df['winery'].isin(missing_country)]\n",
    "missing_country_matchable = df_matched_country.dropna()['winery'].unique()\n",
    "missing_country_matchable"
   ]
  },
  {
   "cell_type": "code",
   "execution_count": 7,
   "metadata": {
    "scrolled": true
   },
   "outputs": [],
   "source": [
    "winery_countery_match_df = wine_rating_df[['country','winery']][(wine_rating_df['winery'].isin(missing_country_matchable)) & (wine_rating_df['country'].notnull())].drop_duplicates(subset = 'winery', keep='first')\n",
    "winery_countery_match_df.set_index('winery',inplace = True)\n",
    "winery_countery_match_dict = winery_countery_match_df.to_dict()\n",
    "for key in winery_countery_match_dict['country']:\n",
    "    rowidx = wine_rating_df[wine_rating_df['winery'] == key].index\n",
    "    wine_rating_df.loc[rowidx, 'country'] = winery_countery_match_dict['country'][key]"
   ]
  },
  {
   "cell_type": "code",
   "execution_count": 8,
   "metadata": {
    "scrolled": true
   },
   "outputs": [
    {
     "name": "stdout",
     "output_type": "stream",
     "text": [
      "<class 'pandas.core.frame.DataFrame'>\n",
      "RangeIndex: 129971 entries, 0 to 129970\n",
      "Data columns (total 13 columns):\n",
      "country                  129940 non-null object\n",
      "description              129971 non-null object\n",
      "designation              92506 non-null object\n",
      "points                   129971 non-null int64\n",
      "price                    120975 non-null float64\n",
      "province                 129908 non-null object\n",
      "region_1                 108724 non-null object\n",
      "region_2                 50511 non-null object\n",
      "taster_name              103727 non-null object\n",
      "taster_twitter_handle    98758 non-null object\n",
      "title                    129971 non-null object\n",
      "variety                  129970 non-null object\n",
      "winery                   129971 non-null object\n",
      "dtypes: float64(1), int64(1), object(11)\n",
      "memory usage: 12.9+ MB\n"
     ]
    }
   ],
   "source": [
    "wine_rating_df.info()"
   ]
  },
  {
   "cell_type": "markdown",
   "metadata": {},
   "source": [
    "32 missing 'country' values infered from their 'winery' values"
   ]
  },
  {
   "cell_type": "code",
   "execution_count": 9,
   "metadata": {},
   "outputs": [],
   "source": [
    "wine_rating_df['country'] = wine_rating_df['country'].fillna(value = 'Missing')\n",
    "wine_rating_df['taster_name'] = wine_rating_df['taster_name'].fillna(value = 'Missing')"
   ]
  },
  {
   "cell_type": "markdown",
   "metadata": {},
   "source": [
    "### Extract year from title (only >2000)"
   ]
  },
  {
   "cell_type": "code",
   "execution_count": 10,
   "metadata": {
    "scrolled": false
   },
   "outputs": [
    {
     "data": {
      "text/html": [
       "<div>\n",
       "<style scoped>\n",
       "    .dataframe tbody tr th:only-of-type {\n",
       "        vertical-align: middle;\n",
       "    }\n",
       "\n",
       "    .dataframe tbody tr th {\n",
       "        vertical-align: top;\n",
       "    }\n",
       "\n",
       "    .dataframe thead th {\n",
       "        text-align: right;\n",
       "    }\n",
       "</style>\n",
       "<table border=\"1\" class=\"dataframe\">\n",
       "  <thead>\n",
       "    <tr style=\"text-align: right;\">\n",
       "      <th></th>\n",
       "      <th>country</th>\n",
       "      <th>description</th>\n",
       "      <th>designation</th>\n",
       "      <th>points</th>\n",
       "      <th>price</th>\n",
       "      <th>province</th>\n",
       "      <th>region_1</th>\n",
       "      <th>region_2</th>\n",
       "      <th>taster_name</th>\n",
       "      <th>taster_twitter_handle</th>\n",
       "      <th>title</th>\n",
       "      <th>variety</th>\n",
       "      <th>winery</th>\n",
       "      <th>year</th>\n",
       "    </tr>\n",
       "  </thead>\n",
       "  <tbody>\n",
       "    <tr>\n",
       "      <th>0</th>\n",
       "      <td>Italy</td>\n",
       "      <td>Aromas include tropical fruit, broom, brimston...</td>\n",
       "      <td>Vulkà Bianco</td>\n",
       "      <td>87</td>\n",
       "      <td>NaN</td>\n",
       "      <td>Sicily &amp; Sardinia</td>\n",
       "      <td>Etna</td>\n",
       "      <td>NaN</td>\n",
       "      <td>Kerin O’Keefe</td>\n",
       "      <td>@kerinokeefe</td>\n",
       "      <td>Nicosia 2013 Vulkà Bianco  (Etna)</td>\n",
       "      <td>White Blend</td>\n",
       "      <td>Nicosia</td>\n",
       "      <td>2013.0</td>\n",
       "    </tr>\n",
       "    <tr>\n",
       "      <th>1</th>\n",
       "      <td>Portugal</td>\n",
       "      <td>This is ripe and fruity, a wine that is smooth...</td>\n",
       "      <td>Avidagos</td>\n",
       "      <td>87</td>\n",
       "      <td>15.0</td>\n",
       "      <td>Douro</td>\n",
       "      <td>NaN</td>\n",
       "      <td>NaN</td>\n",
       "      <td>Roger Voss</td>\n",
       "      <td>@vossroger</td>\n",
       "      <td>Quinta dos Avidagos 2011 Avidagos Red (Douro)</td>\n",
       "      <td>Portuguese Red</td>\n",
       "      <td>Quinta dos Avidagos</td>\n",
       "      <td>2011.0</td>\n",
       "    </tr>\n",
       "    <tr>\n",
       "      <th>2</th>\n",
       "      <td>US</td>\n",
       "      <td>Tart and snappy, the flavors of lime flesh and...</td>\n",
       "      <td>NaN</td>\n",
       "      <td>87</td>\n",
       "      <td>14.0</td>\n",
       "      <td>Oregon</td>\n",
       "      <td>Willamette Valley</td>\n",
       "      <td>Willamette Valley</td>\n",
       "      <td>Paul Gregutt</td>\n",
       "      <td>@paulgwine</td>\n",
       "      <td>Rainstorm 2013 Pinot Gris (Willamette Valley)</td>\n",
       "      <td>Pinot Gris</td>\n",
       "      <td>Rainstorm</td>\n",
       "      <td>2013.0</td>\n",
       "    </tr>\n",
       "    <tr>\n",
       "      <th>3</th>\n",
       "      <td>US</td>\n",
       "      <td>Pineapple rind, lemon pith and orange blossom ...</td>\n",
       "      <td>Reserve Late Harvest</td>\n",
       "      <td>87</td>\n",
       "      <td>13.0</td>\n",
       "      <td>Michigan</td>\n",
       "      <td>Lake Michigan Shore</td>\n",
       "      <td>NaN</td>\n",
       "      <td>Alexander Peartree</td>\n",
       "      <td>NaN</td>\n",
       "      <td>St. Julian 2013 Reserve Late Harvest Riesling ...</td>\n",
       "      <td>Riesling</td>\n",
       "      <td>St. Julian</td>\n",
       "      <td>2013.0</td>\n",
       "    </tr>\n",
       "    <tr>\n",
       "      <th>4</th>\n",
       "      <td>US</td>\n",
       "      <td>Much like the regular bottling from 2012, this...</td>\n",
       "      <td>Vintner's Reserve Wild Child Block</td>\n",
       "      <td>87</td>\n",
       "      <td>65.0</td>\n",
       "      <td>Oregon</td>\n",
       "      <td>Willamette Valley</td>\n",
       "      <td>Willamette Valley</td>\n",
       "      <td>Paul Gregutt</td>\n",
       "      <td>@paulgwine</td>\n",
       "      <td>Sweet Cheeks 2012 Vintner's Reserve Wild Child...</td>\n",
       "      <td>Pinot Noir</td>\n",
       "      <td>Sweet Cheeks</td>\n",
       "      <td>2012.0</td>\n",
       "    </tr>\n",
       "  </tbody>\n",
       "</table>\n",
       "</div>"
      ],
      "text/plain": [
       "    country                                        description  \\\n",
       "0     Italy  Aromas include tropical fruit, broom, brimston...   \n",
       "1  Portugal  This is ripe and fruity, a wine that is smooth...   \n",
       "2        US  Tart and snappy, the flavors of lime flesh and...   \n",
       "3        US  Pineapple rind, lemon pith and orange blossom ...   \n",
       "4        US  Much like the regular bottling from 2012, this...   \n",
       "\n",
       "                          designation  points  price           province  \\\n",
       "0                        Vulkà Bianco      87    NaN  Sicily & Sardinia   \n",
       "1                            Avidagos      87   15.0              Douro   \n",
       "2                                 NaN      87   14.0             Oregon   \n",
       "3                Reserve Late Harvest      87   13.0           Michigan   \n",
       "4  Vintner's Reserve Wild Child Block      87   65.0             Oregon   \n",
       "\n",
       "              region_1           region_2         taster_name  \\\n",
       "0                 Etna                NaN       Kerin O’Keefe   \n",
       "1                  NaN                NaN          Roger Voss   \n",
       "2    Willamette Valley  Willamette Valley        Paul Gregutt   \n",
       "3  Lake Michigan Shore                NaN  Alexander Peartree   \n",
       "4    Willamette Valley  Willamette Valley        Paul Gregutt   \n",
       "\n",
       "  taster_twitter_handle                                              title  \\\n",
       "0          @kerinokeefe                  Nicosia 2013 Vulkà Bianco  (Etna)   \n",
       "1            @vossroger      Quinta dos Avidagos 2011 Avidagos Red (Douro)   \n",
       "2           @paulgwine       Rainstorm 2013 Pinot Gris (Willamette Valley)   \n",
       "3                   NaN  St. Julian 2013 Reserve Late Harvest Riesling ...   \n",
       "4           @paulgwine   Sweet Cheeks 2012 Vintner's Reserve Wild Child...   \n",
       "\n",
       "          variety               winery    year  \n",
       "0     White Blend              Nicosia  2013.0  \n",
       "1  Portuguese Red  Quinta dos Avidagos  2011.0  \n",
       "2      Pinot Gris            Rainstorm  2013.0  \n",
       "3        Riesling           St. Julian  2013.0  \n",
       "4      Pinot Noir         Sweet Cheeks  2012.0  "
      ]
     },
     "execution_count": 10,
     "metadata": {},
     "output_type": "execute_result"
    }
   ],
   "source": [
    "wine_rating_df['year'] = wine_rating_df['title'].str.extract(r'(?P<year>20\\d\\d)')\n",
    "wine_rating_df['year'] = wine_rating_df['year'].apply(pd.to_numeric)\n",
    "wine_rating_df.head()"
   ]
  },
  {
   "cell_type": "code",
   "execution_count": 11,
   "metadata": {},
   "outputs": [
    {
     "data": {
      "text/plain": [
       "6345"
      ]
     },
     "execution_count": 11,
     "metadata": {},
     "output_type": "execute_result"
    }
   ],
   "source": [
    "wine_rating_df[wine_rating_df['year'].isnull()].shape[0]"
   ]
  },
  {
   "cell_type": "markdown",
   "metadata": {},
   "source": [
    "Note: 6345 wine before year 2000"
   ]
  },
  {
   "cell_type": "markdown",
   "metadata": {},
   "source": [
    "### EDA (distributions, counts)"
   ]
  },
  {
   "cell_type": "code",
   "execution_count": 12,
   "metadata": {
    "scrolled": false
   },
   "outputs": [
    {
     "data": {
      "text/plain": [
       "Reserve                        2009\n",
       "Estate                         1322\n",
       "Reserva                        1259\n",
       "Riserva                         698\n",
       "Estate Grown                    621\n",
       "                               ... \n",
       "L- Block                          1\n",
       "Bric Micca                        1\n",
       "Baci di Famiglia Chardonnay       1\n",
       "Les Comtes de Cahors              1\n",
       "Pence Ranch Clone 2A              1\n",
       "Name: designation, Length: 37979, dtype: int64"
      ]
     },
     "execution_count": 12,
     "metadata": {},
     "output_type": "execute_result"
    }
   ],
   "source": [
    "wine_rating_df['designation'].value_counts()"
   ]
  },
  {
   "cell_type": "code",
   "execution_count": 13,
   "metadata": {
    "scrolled": true
   },
   "outputs": [
    {
     "data": {
      "text/plain": [
       "US                        54504\n",
       "France                    22095\n",
       "Italy                     19540\n",
       "Spain                      6645\n",
       "Portugal                   5691\n",
       "Chile                      4475\n",
       "Argentina                  3800\n",
       "Austria                    3354\n",
       "Australia                  2329\n",
       "Germany                    2165\n",
       "New Zealand                1421\n",
       "South Africa               1403\n",
       "Israel                      509\n",
       "Greece                      468\n",
       "Canada                      258\n",
       "Hungary                     146\n",
       "Bulgaria                    142\n",
       "Romania                     120\n",
       "Uruguay                     110\n",
       "Georgia                      91\n",
       "Turkey                       90\n",
       "Slovenia                     87\n",
       "England                      74\n",
       "Croatia                      73\n",
       "Mexico                       70\n",
       "Moldova                      59\n",
       "Brazil                       52\n",
       "Lebanon                      35\n",
       "Missing                      31\n",
       "Morocco                      28\n",
       "Peru                         16\n",
       "Ukraine                      14\n",
       "Czech Republic               12\n",
       "Serbia                       12\n",
       "Macedonia                    12\n",
       "Cyprus                       11\n",
       "India                         9\n",
       "Switzerland                   7\n",
       "Luxembourg                    6\n",
       "Bosnia and Herzegovina        2\n",
       "Armenia                       2\n",
       "China                         1\n",
       "Slovakia                      1\n",
       "Egypt                         1\n",
       "Name: country, dtype: int64"
      ]
     },
     "execution_count": 13,
     "metadata": {},
     "output_type": "execute_result"
    }
   ],
   "source": [
    "wine_rating_df['country'].value_counts()"
   ]
  },
  {
   "cell_type": "code",
   "execution_count": 14,
   "metadata": {},
   "outputs": [
    {
     "data": {
      "text/plain": [
       "Pinot Noir                  13272\n",
       "Chardonnay                  11753\n",
       "Cabernet Sauvignon           9472\n",
       "Red Blend                    8946\n",
       "Bordeaux-style Red Blend     6915\n",
       "                            ...  \n",
       "Merlot-Shiraz                   1\n",
       "Cococciola                      1\n",
       "Chardonnay-Riesling             1\n",
       "Gelber Traminer                 1\n",
       "Mavrokalavryta                  1\n",
       "Name: variety, Length: 707, dtype: int64"
      ]
     },
     "execution_count": 14,
     "metadata": {},
     "output_type": "execute_result"
    }
   ],
   "source": [
    "wine_rating_df['variety'].value_counts()"
   ]
  },
  {
   "cell_type": "code",
   "execution_count": 15,
   "metadata": {},
   "outputs": [
    {
     "data": {
      "text/plain": [
       "Missing               26244\n",
       "Roger Voss            25514\n",
       "Michael Schachner     15134\n",
       "Kerin O’Keefe         10776\n",
       "Virginie Boone         9537\n",
       "Paul Gregutt           9532\n",
       "Matt Kettmann          6332\n",
       "Joe Czerwinski         5147\n",
       "Sean P. Sullivan       4966\n",
       "Anna Lee C. Iijima     4415\n",
       "Jim Gordon             4177\n",
       "Anne Krebiehl MW       3685\n",
       "Lauren Buzzeo          1835\n",
       "Susan Kostrzewa        1085\n",
       "Mike DeSimone           514\n",
       "Jeff Jenssen            491\n",
       "Alexander Peartree      415\n",
       "Carrie Dykes            139\n",
       "Fiona Adams              27\n",
       "Christina Pickard         6\n",
       "Name: taster_name, dtype: int64"
      ]
     },
     "execution_count": 15,
     "metadata": {},
     "output_type": "execute_result"
    }
   ],
   "source": [
    "wine_rating_df['taster_name'].value_counts()"
   ]
  },
  {
   "cell_type": "code",
   "execution_count": 16,
   "metadata": {},
   "outputs": [
    {
     "data": {
      "text/plain": [
       "country  region_1                          \n",
       "US       Napa Valley                           4480\n",
       "         Columbia Valley (WA)                  4124\n",
       "         Russian River Valley                  3091\n",
       "         California                            2629\n",
       "         Paso Robles                           2350\n",
       "                                               ... \n",
       "France   Apremont                                 1\n",
       "Italy    Trentino Superiore                       1\n",
       "US       Napa County-Lake County                  1\n",
       "         Sonoma County-Santa Barbara County       1\n",
       "France   Côtes du Roussillon Les Aspres           1\n",
       "Name: title, Length: 1230, dtype: int64"
      ]
     },
     "execution_count": 16,
     "metadata": {},
     "output_type": "execute_result"
    }
   ],
   "source": [
    "wine_rating_df.groupby(['country','region_1'])['title'].count().sort_values(ascending = False)"
   ]
  },
  {
   "cell_type": "code",
   "execution_count": 17,
   "metadata": {},
   "outputs": [
    {
     "data": {
      "text/plain": [
       "variety                   designation        \n",
       "Cabernet Sauvignon        Reserve                475\n",
       "Chardonnay                Reserve                327\n",
       "Bordeaux-style Red Blend  Barrel sample          300\n",
       "Pinot Noir                Reserve                282\n",
       "Sangiovese                Riserva                266\n",
       "                                                ... \n",
       "Red Blend                 Grand Cheval Oregon      1\n",
       "                          Gran Vos Reserva         1\n",
       "                          Gran Vino de Guarda      1\n",
       "                          Gran Tinto               1\n",
       "Abouriou                  Just                     1\n",
       "Name: title, Length: 47432, dtype: int64"
      ]
     },
     "execution_count": 17,
     "metadata": {},
     "output_type": "execute_result"
    }
   ],
   "source": [
    "wine_rating_df.groupby(['variety','designation'])['title'].count().sort_values(ascending = False)"
   ]
  },
  {
   "cell_type": "code",
   "execution_count": 18,
   "metadata": {},
   "outputs": [
    {
     "data": {
      "text/plain": [
       "<matplotlib.axes._subplots.AxesSubplot at 0x21c45375278>"
      ]
     },
     "execution_count": 18,
     "metadata": {},
     "output_type": "execute_result"
    },
    {
     "data": {
      "image/png": "[encoded data removed]",
      "text/plain": [
       "<matplotlib.figure.Figure at 0x21c45375630>"
      ]
     },
     "metadata": {
      "needs_background": "light"
     },
     "output_type": "display_data"
    }
   ],
   "source": [
    "sns.distplot(wine_rating_df[wine_rating_df['year'].notnull()]['year'].astype('int'), kde = False, bins = 18)"
   ]
  },
  {
   "cell_type": "code",
   "execution_count": 19,
   "metadata": {},
   "outputs": [
    {
     "data": {
      "text/plain": [
       "<matplotlib.axes._subplots.AxesSubplot at 0x21c45335438>"
      ]
     },
     "execution_count": 19,
     "metadata": {},
     "output_type": "execute_result"
    },
    {
     "data": {
      "image/png": "[encoded data removed]",
      "text/plain": [
       "<matplotlib.figure.Figure at 0x21c421be978>"
      ]
     },
     "metadata": {
      "needs_background": "light"
     },
     "output_type": "display_data"
    }
   ],
   "source": [
    "sns.distplot(wine_rating_df[wine_rating_df['points'].notnull()]['points'], kde = False, bins = 20)"
   ]
  },
  {
   "cell_type": "code",
   "execution_count": 20,
   "metadata": {},
   "outputs": [
    {
     "data": {
      "image/png": "[encoded data removed]",
      "text/plain": [
       "<matplotlib.figure.Figure at 0x21c42232080>"
      ]
     },
     "metadata": {
      "needs_background": "light"
     },
     "output_type": "display_data"
    }
   ],
   "source": [
    "price_plot = sns.distplot(wine_rating_df[wine_rating_df['price'].notnull()]['price'], kde = False, bins = 1000)\n",
    "price_plot.set_xscale('log')"
   ]
  },
  {
   "cell_type": "markdown",
   "metadata": {},
   "source": [
    "### Linear Regression (Price)"
   ]
  },
  {
   "cell_type": "code",
   "execution_count": 21,
   "metadata": {
    "scrolled": false
   },
   "outputs": [
    {
     "data": {
      "image/png": "[encoded data removed]",
      "text/plain": [
       "<matplotlib.figure.Figure at 0x21c42346470>"
      ]
     },
     "metadata": {
      "needs_background": "light"
     },
     "output_type": "display_data"
    }
   ],
   "source": [
    "price_rating_plot = sns.scatterplot(x='price', y='points', data = wine_rating_df,alpha = 0.1)\n",
    "price_rating_plot.set_xscale('log')"
   ]
  },
  {
   "cell_type": "code",
   "execution_count": 22,
   "metadata": {},
   "outputs": [
    {
     "name": "stdout",
     "output_type": "stream",
     "text": [
      "                            OLS Regression Results                            \n",
      "==============================================================================\n",
      "Dep. Variable:                 points   R-squared:                       0.374\n",
      "Model:                            OLS   Adj. R-squared:                  0.374\n",
      "Method:                 Least Squares   F-statistic:                 7.239e+04\n",
      "Date:                Sat, 15 Feb 2020   Prob (F-statistic):               0.00\n",
      "Time:                        19:15:04   Log-Likelihood:            -2.7797e+05\n",
      "No. Observations:              120975   AIC:                         5.560e+05\n",
      "Df Residuals:                  120973   BIC:                         5.560e+05\n",
      "Df Model:                           1                                         \n",
      "Covariance Type:            nonrobust                                         \n",
      "==================================================================================\n",
      "                     coef    std err          t      P>|t|      [0.025      0.975]\n",
      "----------------------------------------------------------------------------------\n",
      "Intercept         78.9814      0.036   2208.331      0.000      78.911      79.052\n",
      "np.log2(price)     1.9742      0.007    269.046      0.000       1.960       1.989\n",
      "==============================================================================\n",
      "Omnibus:                     2428.136   Durbin-Watson:                   0.744\n",
      "Prob(Omnibus):                  0.000   Jarque-Bera (JB):             2583.630\n",
      "Skew:                          -0.348   Prob(JB):                         0.00\n",
      "Kurtosis:                       3.169   Cond. No.                         26.2\n",
      "==============================================================================\n",
      "\n",
      "Warnings:\n",
      "[1] Standard Errors assume that the covariance matrix of the errors is correctly specified.\n"
     ]
    }
   ],
   "source": [
    "import statsmodels.formula.api as smf\n",
    "price_model = smf.ols('points ~ np.log2(price)', wine_rating_df)\n",
    "price_model_res = price_model.fit()\n",
    "\n",
    "## Inspect the results\n",
    "print(price_model_res.summary())"
   ]
  },
  {
   "cell_type": "markdown",
   "metadata": {},
   "source": [
    "Everytime the price is doubled, the expected wine ratings increases by 2."
   ]
  },
  {
   "cell_type": "markdown",
   "metadata": {},
   "source": [
    "### Linear Regression (Price & Country)"
   ]
  },
  {
   "cell_type": "markdown",
   "metadata": {},
   "source": [
    "As there are too many countries in the data (40+), transform the country data by retaining the top 12 most frequent countries and turn the rest into 'other'"
   ]
  },
  {
   "cell_type": "code",
   "execution_count": 23,
   "metadata": {
    "scrolled": true
   },
   "outputs": [
    {
     "data": {
      "text/plain": [
       "Index(['US', 'France', 'Italy', 'Spain', 'Portugal', 'Chile', 'Argentina',\n",
       "       'Austria', 'Australia', 'Germany', 'New Zealand', 'South Africa'],\n",
       "      dtype='object')"
      ]
     },
     "execution_count": 23,
     "metadata": {},
     "output_type": "execute_result"
    }
   ],
   "source": [
    "country_count = wine_rating_df['country'].value_counts()\n",
    "country_count.nlargest(12).index"
   ]
  },
  {
   "cell_type": "code",
   "execution_count": 24,
   "metadata": {},
   "outputs": [
    {
     "data": {
      "text/plain": [
       "US              54504\n",
       "France          22095\n",
       "Italy           19540\n",
       "Spain            6645\n",
       "Portugal         5691\n",
       "Chile            4475\n",
       "Argentina        3800\n",
       "Austria          3354\n",
       "other            2549\n",
       "Australia        2329\n",
       "Germany          2165\n",
       "New Zealand      1421\n",
       "South Africa     1403\n",
       "Name: country_grouped, dtype: int64"
      ]
     },
     "execution_count": 24,
     "metadata": {},
     "output_type": "execute_result"
    }
   ],
   "source": [
    "wine_rating_df['country'] = wine_rating_df['country'].fillna(value = 'Missing')\n",
    "wine_rating_df['country_grouped'] = wine_rating_df['country'].apply(lambda x: x if (x in country_count.nlargest(12).index) else 'other')\n",
    "wine_rating_df['country_grouped'].value_counts()"
   ]
  },
  {
   "cell_type": "code",
   "execution_count": 25,
   "metadata": {},
   "outputs": [
    {
     "name": "stdout",
     "output_type": "stream",
     "text": [
      "                            OLS Regression Results                            \n",
      "==============================================================================\n",
      "Dep. Variable:                 points   R-squared:                       0.396\n",
      "Model:                            OLS   Adj. R-squared:                  0.396\n",
      "Method:                 Least Squares   F-statistic:                     6112.\n",
      "Date:                Sat, 15 Feb 2020   Prob (F-statistic):               0.00\n",
      "Time:                        19:15:46   Log-Likelihood:            -2.7580e+05\n",
      "No. Observations:              120975   AIC:                         5.516e+05\n",
      "Df Residuals:                  120961   BIC:                         5.518e+05\n",
      "Df Model:                          13                                         \n",
      "Covariance Type:            nonrobust                                         \n",
      "===================================================================================================\n",
      "                                      coef    std err          t      P>|t|      [0.025      0.975]\n",
      "---------------------------------------------------------------------------------------------------\n",
      "Intercept                          78.2544      0.050   1561.049      0.000      78.156      78.353\n",
      "country_grouped[T.Australia]        1.0916      0.063     17.396      0.000       0.969       1.215\n",
      "country_grouped[T.Austria]          2.5805      0.059     43.658      0.000       2.465       2.696\n",
      "country_grouped[T.Chile]            0.1769      0.053      3.369      0.001       0.074       0.280\n",
      "country_grouped[T.France]           0.9341      0.043     21.888      0.000       0.850       1.018\n",
      "country_grouped[T.Germany]          1.9107      0.064     29.660      0.000       1.784       2.037\n",
      "country_grouped[T.Italy]            0.5749      0.043     13.382      0.000       0.491       0.659\n",
      "country_grouped[T.New Zealand]      1.0359      0.074     13.907      0.000       0.890       1.182\n",
      "country_grouped[T.Portugal]         1.6416      0.051     31.966      0.000       1.541       1.742\n",
      "country_grouped[T.South Africa]     0.9969      0.076     13.071      0.000       0.847       1.146\n",
      "country_grouped[T.Spain]            0.3413      0.048      7.052      0.000       0.246       0.436\n",
      "country_grouped[T.US]               0.5257      0.040     13.069      0.000       0.447       0.605\n",
      "country_grouped[T.other]            0.7621      0.061     12.480      0.000       0.642       0.882\n",
      "np.log2(price)                      1.9805      0.007    264.333      0.000       1.966       1.995\n",
      "==============================================================================\n",
      "Omnibus:                     2198.190   Durbin-Watson:                   0.787\n",
      "Prob(Omnibus):                  0.000   Jarque-Bera (JB):             2329.338\n",
      "Skew:                          -0.328   Prob(JB):                         0.00\n",
      "Kurtosis:                       3.175   Cond. No.                         107.\n",
      "==============================================================================\n",
      "\n",
      "Warnings:\n",
      "[1] Standard Errors assume that the covariance matrix of the errors is correctly specified.\n"
     ]
    }
   ],
   "source": [
    "price_country_model = smf.ols('points ~ np.log2(price) + country_grouped', wine_rating_df)\n",
    "price_country_model_res = price_country_model.fit()\n",
    "\n",
    "## Inspect the results\n",
    "print(price_country_model_res.summary())"
   ]
  },
  {
   "cell_type": "markdown",
   "metadata": {},
   "source": [
    "- This model by default uses Argentina as base level (first alphabetically). All other country's coefficients are in comparison with Argentinian wines (eg. Australian wines on average have 1.0916 higher points than Argentinian wines)\n",
    "- Notice that the coef for price only changes a little compared to previous model (<1% from 1.97 to 1.98). This likely means that price is independent from countries\n",
    "- R2-squared value is only raised by 0.02. This means that while the country data is statistically significant (all p-values < 0.05), the predictive power of the variable is very low."
   ]
  },
  {
   "cell_type": "code",
   "execution_count": 26,
   "metadata": {},
   "outputs": [
    {
     "name": "stdout",
     "output_type": "stream",
     "text": [
      "                            OLS Regression Results                            \n",
      "==============================================================================\n",
      "Dep. Variable:                 points   R-squared:                       0.396\n",
      "Model:                            OLS   Adj. R-squared:                  0.396\n",
      "Method:                 Least Squares   F-statistic:                     6112.\n",
      "Date:                Sat, 15 Feb 2020   Prob (F-statistic):               0.00\n",
      "Time:                        19:16:17   Log-Likelihood:            -2.7580e+05\n",
      "No. Observations:              120975   AIC:                         5.516e+05\n",
      "Df Residuals:                  120961   BIC:                         5.518e+05\n",
      "Df Model:                          13                                         \n",
      "Covariance Type:            nonrobust                                         \n",
      "=================================================================================================================================\n",
      "                                                                    coef    std err          t      P>|t|      [0.025      0.975]\n",
      "---------------------------------------------------------------------------------------------------------------------------------\n",
      "Intercept                                                        78.7801      0.038   2052.105      0.000      78.705      78.855\n",
      "C(country_grouped, Treatment(reference='US'))[T.Argentina]       -0.5257      0.040    -13.069      0.000      -0.605      -0.447\n",
      "C(country_grouped, Treatment(reference='US'))[T.Australia]        0.5659      0.050     11.214      0.000       0.467       0.665\n",
      "C(country_grouped, Treatment(reference='US'))[T.Austria]          2.0548      0.046     44.858      0.000       1.965       2.145\n",
      "C(country_grouped, Treatment(reference='US'))[T.Chile]           -0.3488      0.038     -9.283      0.000      -0.422      -0.275\n",
      "C(country_grouped, Treatment(reference='US'))[T.France]           0.4084      0.020     19.959      0.000       0.368       0.448\n",
      "C(country_grouped, Treatment(reference='US'))[T.Germany]          1.3850      0.052     26.447      0.000       1.282       1.488\n",
      "C(country_grouped, Treatment(reference='US'))[T.Italy]            0.0492      0.021      2.362      0.018       0.008       0.090\n",
      "C(country_grouped, Treatment(reference='US'))[T.New Zealand]      0.5102      0.065      7.905      0.000       0.384       0.637\n",
      "C(country_grouped, Treatment(reference='US'))[T.Portugal]         1.1159      0.036     31.221      0.000       1.046       1.186\n",
      "C(country_grouped, Treatment(reference='US'))[T.South Africa]     0.4712      0.067      7.063      0.000       0.340       0.602\n",
      "C(country_grouped, Treatment(reference='US'))[T.Spain]           -0.1845      0.031     -5.918      0.000      -0.246      -0.123\n",
      "C(country_grouped, Treatment(reference='US'))[T.other]            0.2363      0.048      4.875      0.000       0.141       0.331\n",
      "np.log2(price)                                                    1.9805      0.007    264.333      0.000       1.966       1.995\n",
      "==============================================================================\n",
      "Omnibus:                     2198.190   Durbin-Watson:                   0.787\n",
      "Prob(Omnibus):                  0.000   Jarque-Bera (JB):             2329.338\n",
      "Skew:                          -0.328   Prob(JB):                         0.00\n",
      "Kurtosis:                       3.175   Cond. No.                         50.2\n",
      "==============================================================================\n",
      "\n",
      "Warnings:\n",
      "[1] Standard Errors assume that the covariance matrix of the errors is correctly specified.\n"
     ]
    }
   ],
   "source": [
    "price_country_model_US = smf.ols(\"points ~ np.log2(price) + C(country_grouped, Treatment(reference = 'US'))\", wine_rating_df)\n",
    "price_country_model_US_res = price_country_model_US.fit()\n",
    "\n",
    "## Inspect the results\n",
    "print(price_country_model_US_res.summary())"
   ]
  },
  {
   "cell_type": "markdown",
   "metadata": {},
   "source": [
    "- This model changes the default baseline from Argentina to US\n",
    "- Notice that changing the baseline doesn't affect R2-squared value at all. "
   ]
  },
  {
   "cell_type": "code",
   "execution_count": 27,
   "metadata": {
    "scrolled": true
   },
   "outputs": [
    {
     "data": {
      "text/plain": [
       "<matplotlib.axes._subplots.AxesSubplot at 0x21c4665fe48>"
      ]
     },
     "execution_count": 27,
     "metadata": {},
     "output_type": "execute_result"
    },
    {
     "data": {
      "image/png": "[encoded data removed]",
      "text/plain": [
       "<matplotlib.figure.Figure at 0x21c453755c0>"
      ]
     },
     "metadata": {
      "needs_background": "light"
     },
     "output_type": "display_data"
    }
   ],
   "source": [
    "country_grouped_median_sort = wine_rating_df.groupby('country_grouped').median()['points'].sort_values(ascending = False).index\n",
    "\n",
    "sns.boxplot(x = 'points', y = 'country_grouped', data = wine_rating_df, orient = 'h', order = country_grouped_median_sort)"
   ]
  },
  {
   "cell_type": "markdown",
   "metadata": {},
   "source": [
    "### Linear Regression (Price + Country + Year)"
   ]
  },
  {
   "cell_type": "code",
   "execution_count": 29,
   "metadata": {
    "scrolled": true
   },
   "outputs": [
    {
     "data": {
      "text/plain": [
       "<matplotlib.axes._subplots.AxesSubplot at 0x21c44a9dc88>"
      ]
     },
     "execution_count": 29,
     "metadata": {},
     "output_type": "execute_result"
    },
    {
     "data": {
      "image/png": "[encoded data removed]",
      "text/plain": [
       "<matplotlib.figure.Figure at 0x21c42382be0>"
      ]
     },
     "metadata": {
      "needs_background": "light"
     },
     "output_type": "display_data"
    }
   ],
   "source": [
    "sns.boxplot(x = 'points', y = 'year', data = wine_rating_df, orient = 'h')"
   ]
  },
  {
   "cell_type": "markdown",
   "metadata": {},
   "source": [
    "Slight trend upwards, 2017 data may be ignored due to low samples"
   ]
  },
  {
   "cell_type": "code",
   "execution_count": 30,
   "metadata": {
    "scrolled": true
   },
   "outputs": [
    {
     "data": {
      "text/plain": [
       "2013.0    15875\n",
       "2012.0    15747\n",
       "2014.0    15582\n",
       "2011.0    12558\n",
       "2010.0    12167\n",
       "2015.0    10052\n",
       "2009.0     9878\n",
       "2008.0     7439\n",
       "2007.0     7053\n",
       "2006.0     5772\n",
       "2016.0     3691\n",
       "2005.0     3613\n",
       "2004.0     1774\n",
       "2000.0      759\n",
       "2001.0      691\n",
       "2003.0      598\n",
       "2002.0      366\n",
       "2017.0       11\n",
       "Name: year, dtype: int64"
      ]
     },
     "execution_count": 30,
     "metadata": {},
     "output_type": "execute_result"
    }
   ],
   "source": [
    "wine_rating_df['year'].value_counts()"
   ]
  },
  {
   "cell_type": "code",
   "execution_count": 31,
   "metadata": {},
   "outputs": [
    {
     "name": "stdout",
     "output_type": "stream",
     "text": [
      "                            OLS Regression Results                            \n",
      "==============================================================================\n",
      "Dep. Variable:                 points   R-squared:                       0.410\n",
      "Model:                            OLS   Adj. R-squared:                  0.410\n",
      "Method:                 Least Squares   F-statistic:                     5726.\n",
      "Date:                Sat, 15 Feb 2020   Prob (F-statistic):               0.00\n",
      "Time:                        19:16:42   Log-Likelihood:            -2.6085e+05\n",
      "No. Observations:              115155   AIC:                         5.217e+05\n",
      "Df Residuals:                  115140   BIC:                         5.219e+05\n",
      "Df Model:                          14                                         \n",
      "Covariance Type:            nonrobust                                         \n",
      "=================================================================================================================================\n",
      "                                                                    coef    std err          t      P>|t|      [0.025      0.975]\n",
      "---------------------------------------------------------------------------------------------------------------------------------\n",
      "Intercept                                                      -161.7089      4.408    -36.688      0.000    -170.348    -153.070\n",
      "C(country_grouped, Treatment(reference='US'))[T.Argentina]       -0.4523      0.040    -11.321      0.000      -0.531      -0.374\n",
      "C(country_grouped, Treatment(reference='US'))[T.Australia]        0.8250      0.051     16.050      0.000       0.724       0.926\n",
      "C(country_grouped, Treatment(reference='US'))[T.Austria]          1.9184      0.046     42.094      0.000       1.829       2.008\n",
      "C(country_grouped, Treatment(reference='US'))[T.Chile]           -0.2390      0.038     -6.353      0.000      -0.313      -0.165\n",
      "C(country_grouped, Treatment(reference='US'))[T.France]           0.3810      0.021     18.053      0.000       0.340       0.422\n",
      "C(country_grouped, Treatment(reference='US'))[T.Germany]          1.2473      0.052     24.015      0.000       1.146       1.349\n",
      "C(country_grouped, Treatment(reference='US'))[T.Italy]            0.1714      0.021      8.087      0.000       0.130       0.213\n",
      "C(country_grouped, Treatment(reference='US'))[T.New Zealand]      0.5431      0.064      8.484      0.000       0.418       0.669\n",
      "C(country_grouped, Treatment(reference='US'))[T.Portugal]         1.0924      0.036     30.030      0.000       1.021       1.164\n",
      "C(country_grouped, Treatment(reference='US'))[T.South Africa]     0.7552      0.067     11.207      0.000       0.623       0.887\n",
      "C(country_grouped, Treatment(reference='US'))[T.Spain]           -0.0929      0.032     -2.895      0.004      -0.156      -0.030\n",
      "C(country_grouped, Treatment(reference='US'))[T.other]            0.2705      0.049      5.554      0.000       0.175       0.366\n",
      "np.log2(price)                                                    2.0333      0.008    264.583      0.000       2.018       2.048\n",
      "year                                                              0.1195      0.002     54.560      0.000       0.115       0.124\n",
      "==============================================================================\n",
      "Omnibus:                     1633.159   Durbin-Watson:                   0.784\n",
      "Prob(Omnibus):                  0.000   Jarque-Bera (JB):             1715.409\n",
      "Skew:                          -0.286   Prob(JB):                         0.00\n",
      "Kurtosis:                       3.175   Cond. No.                     1.29e+06\n",
      "==============================================================================\n",
      "\n",
      "Warnings:\n",
      "[1] Standard Errors assume that the covariance matrix of the errors is correctly specified.\n",
      "[2] The condition number is large, 1.29e+06. This might indicate that there are\n",
      "strong multicollinearity or other numerical problems.\n"
     ]
    }
   ],
   "source": [
    "price_country_year_model_US = smf.ols(\"points ~ np.log2(price) + C(country_grouped, Treatment(reference = 'US')) + year\", wine_rating_df)\n",
    "price_country_year_model_US_res = price_country_year_model_US.fit()\n",
    "print(price_country_year_model_US_res.summary())"
   ]
  },
  {
   "cell_type": "markdown",
   "metadata": {},
   "source": [
    "While year is statistically significant, the coef is very low. However, adjusted R2 still increased, so year can be kept in the model"
   ]
  },
  {
   "cell_type": "markdown",
   "metadata": {},
   "source": [
    "### Linear Regression (Price + Country + Year + Taster Name)"
   ]
  },
  {
   "cell_type": "code",
   "execution_count": 33,
   "metadata": {
    "scrolled": true
   },
   "outputs": [
    {
     "data": {
      "text/plain": [
       "Missing               26244\n",
       "Roger Voss            25514\n",
       "Michael Schachner     15134\n",
       "Kerin O’Keefe         10776\n",
       "Virginie Boone         9537\n",
       "Paul Gregutt           9532\n",
       "Matt Kettmann          6332\n",
       "Joe Czerwinski         5147\n",
       "Sean P. Sullivan       4966\n",
       "Anna Lee C. Iijima     4415\n",
       "Jim Gordon             4177\n",
       "Anne Krebiehl MW       3685\n",
       "Lauren Buzzeo          1835\n",
       "Susan Kostrzewa        1085\n",
       "Mike DeSimone           514\n",
       "Jeff Jenssen            491\n",
       "Alexander Peartree      415\n",
       "Carrie Dykes            139\n",
       "Fiona Adams              27\n",
       "Christina Pickard         6\n",
       "Name: taster_name, dtype: int64"
      ]
     },
     "execution_count": 33,
     "metadata": {},
     "output_type": "execute_result"
    }
   ],
   "source": [
    "wine_rating_df['taster_name'].value_counts()"
   ]
  },
  {
   "cell_type": "code",
   "execution_count": 34,
   "metadata": {},
   "outputs": [
    {
     "data": {
      "text/plain": [
       "Index(['Missing', 'Roger Voss', 'Michael Schachner', 'Kerin O’Keefe',\n",
       "       'Virginie Boone', 'Paul Gregutt', 'Matt Kettmann', 'Joe Czerwinski',\n",
       "       'Sean P. Sullivan', 'Anna Lee C. Iijima'],\n",
       "      dtype='object')"
      ]
     },
     "execution_count": 34,
     "metadata": {},
     "output_type": "execute_result"
    }
   ],
   "source": [
    "taster_count = wine_rating_df['taster_name'].value_counts()\n",
    "taster_count.nlargest(10).index"
   ]
  },
  {
   "cell_type": "code",
   "execution_count": 35,
   "metadata": {},
   "outputs": [
    {
     "data": {
      "text/plain": [
       "Missing               26244\n",
       "Roger Voss            25514\n",
       "Michael Schachner     15134\n",
       "Kerin O’Keefe         10776\n",
       "Virginie Boone         9537\n",
       "Paul Gregutt           9532\n",
       "Matt Kettmann          6332\n",
       "Joe Czerwinski         5147\n",
       "Sean P. Sullivan       4966\n",
       "other                  4512\n",
       "Anna Lee C. Iijima     4415\n",
       "Jim Gordon             4177\n",
       "Anne Krebiehl MW       3685\n",
       "Name: taster_name_grouped, dtype: int64"
      ]
     },
     "execution_count": 35,
     "metadata": {},
     "output_type": "execute_result"
    }
   ],
   "source": [
    "wine_rating_df['taster_name_grouped'] = wine_rating_df['taster_name'].apply(lambda x: x if (x in taster_count.nlargest(12).index) else 'other')\n",
    "wine_rating_df['taster_name_grouped'].value_counts()"
   ]
  },
  {
   "cell_type": "code",
   "execution_count": 36,
   "metadata": {},
   "outputs": [
    {
     "name": "stdout",
     "output_type": "stream",
     "text": [
      "                            OLS Regression Results                            \n",
      "==============================================================================\n",
      "Dep. Variable:                 points   R-squared:                       0.437\n",
      "Model:                            OLS   Adj. R-squared:                  0.437\n",
      "Method:                 Least Squares   F-statistic:                     3433.\n",
      "Date:                Sat, 15 Feb 2020   Prob (F-statistic):               0.00\n",
      "Time:                        19:17:46   Log-Likelihood:            -2.5823e+05\n",
      "No. Observations:              115155   AIC:                         5.165e+05\n",
      "Df Residuals:                  115128   BIC:                         5.168e+05\n",
      "Df Model:                          26                                         \n",
      "Covariance Type:            nonrobust                                         \n",
      "======================================================================================================================================\n",
      "                                                                         coef    std err          t      P>|t|      [0.025      0.975]\n",
      "--------------------------------------------------------------------------------------------------------------------------------------\n",
      "Intercept                                                            -65.4586      5.128    -12.766      0.000     -75.508     -55.409\n",
      "C(country_grouped, Treatment(reference='US'))[T.Argentina]             2.1687      0.132     16.450      0.000       1.910       2.427\n",
      "C(country_grouped, Treatment(reference='US'))[T.Australia]             1.4163      0.079     18.011      0.000       1.262       1.570\n",
      "C(country_grouped, Treatment(reference='US'))[T.Austria]               1.7659      0.090     19.700      0.000       1.590       1.942\n",
      "C(country_grouped, Treatment(reference='US'))[T.Chile]                 2.3501      0.130     18.116      0.000       2.096       2.604\n",
      "C(country_grouped, Treatment(reference='US'))[T.France]                1.2025      0.070     17.233      0.000       1.066       1.339\n",
      "C(country_grouped, Treatment(reference='US'))[T.Germany]               1.5857      0.064     24.957      0.000       1.461       1.710\n",
      "C(country_grouped, Treatment(reference='US'))[T.Italy]                 1.0518      0.034     31.131      0.000       0.986       1.118\n",
      "C(country_grouped, Treatment(reference='US'))[T.New Zealand]           1.2144      0.089     13.611      0.000       1.040       1.389\n",
      "C(country_grouped, Treatment(reference='US'))[T.Portugal]              2.0235      0.080     25.411      0.000       1.867       2.180\n",
      "C(country_grouped, Treatment(reference='US'))[T.South Africa]          1.9184      0.086     22.206      0.000       1.749       2.088\n",
      "C(country_grouped, Treatment(reference='US'))[T.Spain]                 2.5011      0.129     19.339      0.000       2.248       2.755\n",
      "C(country_grouped, Treatment(reference='US'))[T.other]                 1.3664      0.066     20.614      0.000       1.236       1.496\n",
      "C(taster_name_grouped, Treatment('Missing'))[T.Anna Lee C. Iijima]     0.5999      0.047     12.631      0.000       0.507       0.693\n",
      "C(taster_name_grouped, Treatment('Missing'))[T.Anne Krebiehl MW]       1.4794      0.088     16.855      0.000       1.307       1.651\n",
      "C(taster_name_grouped, Treatment('Missing'))[T.Jim Gordon]             1.5352      0.042     36.355      0.000       1.452       1.618\n",
      "C(taster_name_grouped, Treatment('Missing'))[T.Joe Czerwinski]         0.1231      0.069      1.782      0.075      -0.012       0.259\n",
      "C(taster_name_grouped, Treatment('Missing'))[T.Kerin O’Keefe]         -0.2042      0.039     -5.240      0.000      -0.281      -0.128\n",
      "C(taster_name_grouped, Treatment('Missing'))[T.Matt Kettmann]          1.7604      0.036     48.392      0.000       1.689       1.832\n",
      "C(taster_name_grouped, Treatment('Missing'))[T.Michael Schachner]     -1.8455      0.127    -14.539      0.000      -2.094      -1.597\n",
      "C(taster_name_grouped, Treatment('Missing'))[T.Paul Gregutt]           1.4705      0.030     48.504      0.000       1.411       1.530\n",
      "C(taster_name_grouped, Treatment('Missing'))[T.Roger Voss]            -0.0931      0.072     -1.289      0.197      -0.235       0.048\n",
      "C(taster_name_grouped, Treatment('Missing'))[T.Sean P. Sullivan]       0.9640      0.039     24.664      0.000       0.887       1.041\n",
      "C(taster_name_grouped, Treatment('Missing'))[T.Virginie Boone]         0.6317      0.032     19.910      0.000       0.569       0.694\n",
      "C(taster_name_grouped, Treatment('Missing'))[T.other]                 -0.4763      0.061     -7.827      0.000      -0.596      -0.357\n",
      "np.log2(price)                                                         2.0186      0.008    262.519      0.000       2.004       2.034\n",
      "year                                                                   0.0712      0.003     27.934      0.000       0.066       0.076\n",
      "==============================================================================\n",
      "Omnibus:                     1248.738   Durbin-Watson:                   0.833\n",
      "Prob(Omnibus):                  0.000   Jarque-Bera (JB):             1329.378\n",
      "Skew:                          -0.235   Prob(JB):                    2.13e-289\n",
      "Kurtosis:                       3.237   Cond. No.                     1.54e+06\n",
      "==============================================================================\n",
      "\n",
      "Warnings:\n",
      "[1] Standard Errors assume that the covariance matrix of the errors is correctly specified.\n",
      "[2] The condition number is large, 1.54e+06. This might indicate that there are\n",
      "strong multicollinearity or other numerical problems.\n"
     ]
    }
   ],
   "source": [
    "pr_c_y_tn_model = smf.ols(\"points ~ np.log2(price) + C(country_grouped, Treatment(reference = 'US')) + year + C(taster_name_grouped, Treatment('Missing'))\", wine_rating_df)\n",
    "pr_c_y_tn_model_res = pr_c_y_tn_model.fit()\n",
    "print(pr_c_y_tn_model_res.summary())"
   ]
  },
  {
   "cell_type": "code",
   "execution_count": 37,
   "metadata": {},
   "outputs": [
    {
     "data": {
      "text/plain": [
       "<matplotlib.axes._subplots.AxesSubplot at 0x21c491050f0>"
      ]
     },
     "execution_count": 37,
     "metadata": {},
     "output_type": "execute_result"
    },
    {
     "data": {
      "image/png": "[encoded data removed]",
      "text/plain": [
       "<matplotlib.figure.Figure at 0x21c44a82d68>"
      ]
     },
     "metadata": {
      "needs_background": "light"
     },
     "output_type": "display_data"
    }
   ],
   "source": [
    "sns.boxplot(x = 'points', y = 'taster_name_grouped', data = wine_rating_df, orient = 'h')"
   ]
  },
  {
   "cell_type": "markdown",
   "metadata": {},
   "source": [
    "### Coefficient Plot"
   ]
  },
  {
   "cell_type": "code",
   "execution_count": 38,
   "metadata": {
    "scrolled": true
   },
   "outputs": [
    {
     "data": {
      "text/html": [
       "<div>\n",
       "<style scoped>\n",
       "    .dataframe tbody tr th:only-of-type {\n",
       "        vertical-align: middle;\n",
       "    }\n",
       "\n",
       "    .dataframe tbody tr th {\n",
       "        vertical-align: top;\n",
       "    }\n",
       "\n",
       "    .dataframe thead th {\n",
       "        text-align: right;\n",
       "    }\n",
       "</style>\n",
       "<table border=\"1\" class=\"dataframe\">\n",
       "  <thead>\n",
       "    <tr style=\"text-align: right;\">\n",
       "      <th></th>\n",
       "      <th>X</th>\n",
       "      <th>conf_int_low</th>\n",
       "      <th>conf_int_high</th>\n",
       "      <th>coef</th>\n",
       "      <th>coef_abs_err</th>\n",
       "    </tr>\n",
       "  </thead>\n",
       "  <tbody>\n",
       "    <tr>\n",
       "      <th>10</th>\n",
       "      <td>country Spain</td>\n",
       "      <td>2.247594</td>\n",
       "      <td>2.754543</td>\n",
       "      <td>2.501068</td>\n",
       "      <td>0.253475</td>\n",
       "    </tr>\n",
       "    <tr>\n",
       "      <th>3</th>\n",
       "      <td>country Chile</td>\n",
       "      <td>2.095829</td>\n",
       "      <td>2.604342</td>\n",
       "      <td>2.350085</td>\n",
       "      <td>0.254257</td>\n",
       "    </tr>\n",
       "    <tr>\n",
       "      <th>0</th>\n",
       "      <td>country Argentina</td>\n",
       "      <td>1.910290</td>\n",
       "      <td>2.427094</td>\n",
       "      <td>2.168692</td>\n",
       "      <td>0.258402</td>\n",
       "    </tr>\n",
       "    <tr>\n",
       "      <th>8</th>\n",
       "      <td>country Portugal</td>\n",
       "      <td>1.867460</td>\n",
       "      <td>2.179610</td>\n",
       "      <td>2.023535</td>\n",
       "      <td>0.156075</td>\n",
       "    </tr>\n",
       "    <tr>\n",
       "      <th>24</th>\n",
       "      <td>np.log2(price)</td>\n",
       "      <td>2.003572</td>\n",
       "      <td>2.033714</td>\n",
       "      <td>2.018643</td>\n",
       "      <td>0.015071</td>\n",
       "    </tr>\n",
       "    <tr>\n",
       "      <th>9</th>\n",
       "      <td>country South Africa</td>\n",
       "      <td>1.749104</td>\n",
       "      <td>2.087760</td>\n",
       "      <td>1.918432</td>\n",
       "      <td>0.169328</td>\n",
       "    </tr>\n",
       "    <tr>\n",
       "      <th>2</th>\n",
       "      <td>country Austria</td>\n",
       "      <td>1.590188</td>\n",
       "      <td>1.941558</td>\n",
       "      <td>1.765873</td>\n",
       "      <td>0.175685</td>\n",
       "    </tr>\n",
       "    <tr>\n",
       "      <th>17</th>\n",
       "      <td>taster_name Matt Kettmann</td>\n",
       "      <td>1.689095</td>\n",
       "      <td>1.831694</td>\n",
       "      <td>1.760394</td>\n",
       "      <td>0.071299</td>\n",
       "    </tr>\n",
       "    <tr>\n",
       "      <th>5</th>\n",
       "      <td>country Germany</td>\n",
       "      <td>1.461141</td>\n",
       "      <td>1.710204</td>\n",
       "      <td>1.585673</td>\n",
       "      <td>0.124532</td>\n",
       "    </tr>\n",
       "    <tr>\n",
       "      <th>14</th>\n",
       "      <td>taster_name Jim Gordon</td>\n",
       "      <td>1.452418</td>\n",
       "      <td>1.617949</td>\n",
       "      <td>1.535183</td>\n",
       "      <td>0.082766</td>\n",
       "    </tr>\n",
       "    <tr>\n",
       "      <th>13</th>\n",
       "      <td>taster_name Anne Krebiehl MW</td>\n",
       "      <td>1.307348</td>\n",
       "      <td>1.651409</td>\n",
       "      <td>1.479379</td>\n",
       "      <td>0.172030</td>\n",
       "    </tr>\n",
       "    <tr>\n",
       "      <th>19</th>\n",
       "      <td>taster_name Paul Gregutt</td>\n",
       "      <td>1.411051</td>\n",
       "      <td>1.529891</td>\n",
       "      <td>1.470471</td>\n",
       "      <td>0.059420</td>\n",
       "    </tr>\n",
       "    <tr>\n",
       "      <th>1</th>\n",
       "      <td>country Australia</td>\n",
       "      <td>1.262213</td>\n",
       "      <td>1.570464</td>\n",
       "      <td>1.416338</td>\n",
       "      <td>0.154125</td>\n",
       "    </tr>\n",
       "    <tr>\n",
       "      <th>11</th>\n",
       "      <td>country other</td>\n",
       "      <td>1.236475</td>\n",
       "      <td>1.496310</td>\n",
       "      <td>1.366392</td>\n",
       "      <td>0.129918</td>\n",
       "    </tr>\n",
       "    <tr>\n",
       "      <th>7</th>\n",
       "      <td>country New Zealand</td>\n",
       "      <td>1.039555</td>\n",
       "      <td>1.389324</td>\n",
       "      <td>1.214439</td>\n",
       "      <td>0.174885</td>\n",
       "    </tr>\n",
       "    <tr>\n",
       "      <th>4</th>\n",
       "      <td>country France</td>\n",
       "      <td>1.065736</td>\n",
       "      <td>1.339264</td>\n",
       "      <td>1.202500</td>\n",
       "      <td>0.136764</td>\n",
       "    </tr>\n",
       "    <tr>\n",
       "      <th>6</th>\n",
       "      <td>country Italy</td>\n",
       "      <td>0.985601</td>\n",
       "      <td>1.118043</td>\n",
       "      <td>1.051822</td>\n",
       "      <td>0.066221</td>\n",
       "    </tr>\n",
       "    <tr>\n",
       "      <th>21</th>\n",
       "      <td>taster_name Sean P. Sullivan</td>\n",
       "      <td>0.887411</td>\n",
       "      <td>1.040624</td>\n",
       "      <td>0.964017</td>\n",
       "      <td>0.076607</td>\n",
       "    </tr>\n",
       "    <tr>\n",
       "      <th>22</th>\n",
       "      <td>taster_name Virginie Boone</td>\n",
       "      <td>0.569473</td>\n",
       "      <td>0.693835</td>\n",
       "      <td>0.631654</td>\n",
       "      <td>0.062181</td>\n",
       "    </tr>\n",
       "    <tr>\n",
       "      <th>12</th>\n",
       "      <td>taster_name Anna Lee C. Iijima</td>\n",
       "      <td>0.506819</td>\n",
       "      <td>0.692994</td>\n",
       "      <td>0.599906</td>\n",
       "      <td>0.093087</td>\n",
       "    </tr>\n",
       "    <tr>\n",
       "      <th>15</th>\n",
       "      <td>taster_name Joe Czerwinski</td>\n",
       "      <td>-0.012302</td>\n",
       "      <td>0.258575</td>\n",
       "      <td>0.123136</td>\n",
       "      <td>0.135438</td>\n",
       "    </tr>\n",
       "    <tr>\n",
       "      <th>25</th>\n",
       "      <td>year</td>\n",
       "      <td>0.066244</td>\n",
       "      <td>0.076241</td>\n",
       "      <td>0.071243</td>\n",
       "      <td>0.004999</td>\n",
       "    </tr>\n",
       "    <tr>\n",
       "      <th>20</th>\n",
       "      <td>taster_name Roger Voss</td>\n",
       "      <td>-0.234620</td>\n",
       "      <td>0.048426</td>\n",
       "      <td>-0.093097</td>\n",
       "      <td>0.141523</td>\n",
       "    </tr>\n",
       "    <tr>\n",
       "      <th>16</th>\n",
       "      <td>taster_name Kerin O’Keefe</td>\n",
       "      <td>-0.280595</td>\n",
       "      <td>-0.127820</td>\n",
       "      <td>-0.204207</td>\n",
       "      <td>0.076387</td>\n",
       "    </tr>\n",
       "    <tr>\n",
       "      <th>23</th>\n",
       "      <td>taster_name other</td>\n",
       "      <td>-0.595544</td>\n",
       "      <td>-0.356999</td>\n",
       "      <td>-0.476271</td>\n",
       "      <td>0.119272</td>\n",
       "    </tr>\n",
       "    <tr>\n",
       "      <th>18</th>\n",
       "      <td>taster_name Michael Schachner</td>\n",
       "      <td>-2.094289</td>\n",
       "      <td>-1.596704</td>\n",
       "      <td>-1.845497</td>\n",
       "      <td>0.248793</td>\n",
       "    </tr>\n",
       "  </tbody>\n",
       "</table>\n",
       "</div>"
      ],
      "text/plain": [
       "                                 X  conf_int_low  conf_int_high      coef  \\\n",
       "10                   country Spain      2.247594       2.754543  2.501068   \n",
       "3                    country Chile      2.095829       2.604342  2.350085   \n",
       "0                country Argentina      1.910290       2.427094  2.168692   \n",
       "8                 country Portugal      1.867460       2.179610  2.023535   \n",
       "24                  np.log2(price)      2.003572       2.033714  2.018643   \n",
       "9             country South Africa      1.749104       2.087760  1.918432   \n",
       "2                  country Austria      1.590188       1.941558  1.765873   \n",
       "17       taster_name Matt Kettmann      1.689095       1.831694  1.760394   \n",
       "5                  country Germany      1.461141       1.710204  1.585673   \n",
       "14          taster_name Jim Gordon      1.452418       1.617949  1.535183   \n",
       "13    taster_name Anne Krebiehl MW      1.307348       1.651409  1.479379   \n",
       "19        taster_name Paul Gregutt      1.411051       1.529891  1.470471   \n",
       "1                country Australia      1.262213       1.570464  1.416338   \n",
       "11                   country other      1.236475       1.496310  1.366392   \n",
       "7              country New Zealand      1.039555       1.389324  1.214439   \n",
       "4                   country France      1.065736       1.339264  1.202500   \n",
       "6                    country Italy      0.985601       1.118043  1.051822   \n",
       "21    taster_name Sean P. Sullivan      0.887411       1.040624  0.964017   \n",
       "22      taster_name Virginie Boone      0.569473       0.693835  0.631654   \n",
       "12  taster_name Anna Lee C. Iijima      0.506819       0.692994  0.599906   \n",
       "15      taster_name Joe Czerwinski     -0.012302       0.258575  0.123136   \n",
       "25                            year      0.066244       0.076241  0.071243   \n",
       "20          taster_name Roger Voss     -0.234620       0.048426 -0.093097   \n",
       "16       taster_name Kerin O’Keefe     -0.280595      -0.127820 -0.204207   \n",
       "23               taster_name other     -0.595544      -0.356999 -0.476271   \n",
       "18   taster_name Michael Schachner     -2.094289      -1.596704 -1.845497   \n",
       "\n",
       "    coef_abs_err  \n",
       "10      0.253475  \n",
       "3       0.254257  \n",
       "0       0.258402  \n",
       "8       0.156075  \n",
       "24      0.015071  \n",
       "9       0.169328  \n",
       "2       0.175685  \n",
       "17      0.071299  \n",
       "5       0.124532  \n",
       "14      0.082766  \n",
       "13      0.172030  \n",
       "19      0.059420  \n",
       "1       0.154125  \n",
       "11      0.129918  \n",
       "7       0.174885  \n",
       "4       0.136764  \n",
       "6       0.066221  \n",
       "21      0.076607  \n",
       "22      0.062181  \n",
       "12      0.093087  \n",
       "15      0.135438  \n",
       "25      0.004999  \n",
       "20      0.141523  \n",
       "16      0.076387  \n",
       "23      0.119272  \n",
       "18      0.248793  "
      ]
     },
     "execution_count": 38,
     "metadata": {},
     "output_type": "execute_result"
    }
   ],
   "source": [
    "import re\n",
    "def beautify_coef_text(x):\n",
    "    country_compile = re.compile(r\"C\\(country_grouped\\, Treatment\\(reference\\=\\'US\\'\\)\\)\\[T\\.\" + r'(.*)' + r\"\\]\")\n",
    "    taster_compile = re.compile(r\"C\\(taster_name_grouped\\, Treatment\\(\\'Missing\\'\\)\\)\\[T\\.\" + r'(.*)' + r\"\\]\")\n",
    "    country_res = country_compile.search(x)\n",
    "    taster_res = taster_compile.search(x)\n",
    "    if country_res != None:\n",
    "        return ('country ' + country_res.group(1))\n",
    "    elif taster_res != None:\n",
    "        return ('taster_name ' + taster_res.group(1))\n",
    "    else : return x\n",
    "\n",
    "model_summary_df = pr_c_y_tn_model_res.conf_int().drop('Intercept')\n",
    "model_summary_df['coef'] = pr_c_y_tn_model_res.params.drop('Intercept')\n",
    "model_summary_df.reset_index(inplace = True)\n",
    "model_summary_df.columns = ['X', 'conf_int_low', 'conf_int_high', 'coef']\n",
    "model_summary_df['X'] = model_summary_df['X'].apply(beautify_coef_text)\n",
    "model_summary_df = model_summary_df.sort_values(by = 'coef', ascending = False)\n",
    "model_summary_df['coef_abs_err'] = model_summary_df['conf_int_high'] - model_summary_df['coef']\n",
    "\n",
    "model_summary_df"
   ]
  },
  {
   "cell_type": "code",
   "execution_count": 47,
   "metadata": {
    "scrolled": true
   },
   "outputs": [
    {
     "data": {
      "text/plain": [
       "<Container object of 3 artists>"
      ]
     },
     "execution_count": 47,
     "metadata": {},
     "output_type": "execute_result"
    },
    {
     "data": {
      "image/png": "[encoded data removed]",
      "text/plain": [
       "<matplotlib.figure.Figure at 0x21c4bd3b518>"
      ]
     },
     "metadata": {
      "needs_background": "light"
     },
     "output_type": "display_data"
    }
   ],
   "source": [
    "plt.figure(figsize=(8,6))\n",
    "ax = sns.pointplot('coef', 'X', data=model_summary_df, join = False, markers = '.')\n",
    "x_coords = []\n",
    "y_coords = []\n",
    "for point_pair in ax.collections:\n",
    "    for x, y in point_pair.get_offsets():\n",
    "        x_coords.append(x)\n",
    "        y_coords.append(y)\n",
    "\n",
    "\n",
    "ax.errorbar(x_coords, y_coords, xerr = model_summary_df['coef_abs_err'], fmt='none', capsize = 5)"
   ]
  },
  {
   "cell_type": "code",
   "execution_count": 48,
   "metadata": {},
   "outputs": [
    {
     "data": {
      "text/plain": [
       "Text(0.5,0,'fitted values')"
      ]
     },
     "execution_count": 48,
     "metadata": {},
     "output_type": "execute_result"
    },
    {
     "data": {
      "image/png": "[encoded data removed]",
      "text/plain": [
       "<matplotlib.figure.Figure at 0x21c4dd3b4a8>"
      ]
     },
     "metadata": {
      "needs_background": "light"
     },
     "output_type": "display_data"
    }
   ],
   "source": [
    "fitted_plot = sns.scatterplot(pr_c_y_tn_model_res.fittedvalues, wine_rating_df['points'], alpha = 0.1)\n",
    "fitted_plot.set_xlabel('fitted values')"
   ]
  },
  {
   "cell_type": "code",
   "execution_count": 55,
   "metadata": {
    "scrolled": true
   },
   "outputs": [
    {
     "data": {
      "text/html": [
       "<div>\n",
       "<style scoped>\n",
       "    .dataframe tbody tr th:only-of-type {\n",
       "        vertical-align: middle;\n",
       "    }\n",
       "\n",
       "    .dataframe tbody tr th {\n",
       "        vertical-align: top;\n",
       "    }\n",
       "\n",
       "    .dataframe thead th {\n",
       "        text-align: right;\n",
       "    }\n",
       "</style>\n",
       "<table border=\"1\" class=\"dataframe\">\n",
       "  <thead>\n",
       "    <tr style=\"text-align: right;\">\n",
       "      <th></th>\n",
       "      <th>df</th>\n",
       "      <th>sum_sq</th>\n",
       "      <th>mean_sq</th>\n",
       "      <th>F</th>\n",
       "      <th>PR(&gt;F)</th>\n",
       "      <th>sum_sq/total_sum_sq</th>\n",
       "    </tr>\n",
       "  </thead>\n",
       "  <tbody>\n",
       "    <tr>\n",
       "      <th>C(country_grouped, Treatment(reference='US'))</th>\n",
       "      <td>12.0</td>\n",
       "      <td>51888.148692</td>\n",
       "      <td>4324.012391</td>\n",
       "      <td>832.768775</td>\n",
       "      <td>0.000000e+00</td>\n",
       "      <td>0.048894</td>\n",
       "    </tr>\n",
       "    <tr>\n",
       "      <th>C(taster_name_grouped, Treatment('Missing'))</th>\n",
       "      <td>12.0</td>\n",
       "      <td>52914.230409</td>\n",
       "      <td>4409.519201</td>\n",
       "      <td>849.236674</td>\n",
       "      <td>0.000000e+00</td>\n",
       "      <td>0.049861</td>\n",
       "    </tr>\n",
       "    <tr>\n",
       "      <th>np.log2(price)</th>\n",
       "      <td>1.0</td>\n",
       "      <td>354592.490882</td>\n",
       "      <td>354592.490882</td>\n",
       "      <td>68291.560585</td>\n",
       "      <td>0.000000e+00</td>\n",
       "      <td>0.334134</td>\n",
       "    </tr>\n",
       "    <tr>\n",
       "      <th>year</th>\n",
       "      <td>1.0</td>\n",
       "      <td>4051.727356</td>\n",
       "      <td>4051.727356</td>\n",
       "      <td>780.328945</td>\n",
       "      <td>3.820325e-171</td>\n",
       "      <td>0.003818</td>\n",
       "    </tr>\n",
       "    <tr>\n",
       "      <th>Residual</th>\n",
       "      <td>115128.0</td>\n",
       "      <td>597782.858386</td>\n",
       "      <td>5.192333</td>\n",
       "      <td>NaN</td>\n",
       "      <td>NaN</td>\n",
       "      <td>0.563293</td>\n",
       "    </tr>\n",
       "  </tbody>\n",
       "</table>\n",
       "</div>"
      ],
      "text/plain": [
       "                                                     df         sum_sq  \\\n",
       "C(country_grouped, Treatment(reference='US'))      12.0   51888.148692   \n",
       "C(taster_name_grouped, Treatment('Missing'))       12.0   52914.230409   \n",
       "np.log2(price)                                      1.0  354592.490882   \n",
       "year                                                1.0    4051.727356   \n",
       "Residual                                       115128.0  597782.858386   \n",
       "\n",
       "                                                     mean_sq             F  \\\n",
       "C(country_grouped, Treatment(reference='US'))    4324.012391    832.768775   \n",
       "C(taster_name_grouped, Treatment('Missing'))     4409.519201    849.236674   \n",
       "np.log2(price)                                 354592.490882  68291.560585   \n",
       "year                                             4051.727356    780.328945   \n",
       "Residual                                            5.192333           NaN   \n",
       "\n",
       "                                                      PR(>F)  \\\n",
       "C(country_grouped, Treatment(reference='US'))   0.000000e+00   \n",
       "C(taster_name_grouped, Treatment('Missing'))    0.000000e+00   \n",
       "np.log2(price)                                  0.000000e+00   \n",
       "year                                           3.820325e-171   \n",
       "Residual                                                 NaN   \n",
       "\n",
       "                                               sum_sq/total_sum_sq  \n",
       "C(country_grouped, Treatment(reference='US'))             0.048894  \n",
       "C(taster_name_grouped, Treatment('Missing'))              0.049861  \n",
       "np.log2(price)                                            0.334134  \n",
       "year                                                      0.003818  \n",
       "Residual                                                  0.563293  "
      ]
     },
     "execution_count": 55,
     "metadata": {},
     "output_type": "execute_result"
    }
   ],
   "source": [
    "import statsmodels.api as sm\n",
    "\n",
    "anova_table = sm.stats.anova_lm(pr_c_y_tn_model_res, typ=1)\n",
    "anova_table['sum_sq/total_sum_sq'] = anova_table['sum_sq'] / anova_table['sum_sq'].sum()\n",
    "anova_table"
   ]
  },
  {
   "cell_type": "markdown",
   "metadata": {},
   "source": [
    "Price has the highest explained variance (0.334), i.e. it is the strongest predictor for price"
   ]
  },
  {
   "cell_type": "code",
   "execution_count": null,
   "metadata": {},
   "outputs": [],
   "source": []
  }
 ],
 "metadata": {
  "kernelspec": {
   "display_name": "Python 3",
   "language": "python",
   "name": "python3"
  },
  "language_info": {
   "codemirror_mode": {
    "name": "ipython",
    "version": 3
   },
   "file_extension": ".py",
   "mimetype": "text/x-python",
   "name": "python",
   "nbconvert_exporter": "python",
   "pygments_lexer": "ipython3",
   "version": "3.6.4"
  }
 },
 "nbformat": 4,
 "nbformat_minor": 2
}
